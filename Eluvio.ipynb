{
  "nbformat": 4,
  "nbformat_minor": 0,
  "metadata": {
    "colab": {
      "name": "Eluvio.ipynb",
      "provenance": [],
      "collapsed_sections": [],
      "mount_file_id": "1xscmJ04M0pvraJ34XNBxbPFd3ZCCJoHj",
      "authorship_tag": "ABX9TyNikNI9eM4ATeUKu7JVaqhT"
    },
    "kernelspec": {
      "name": "python3",
      "display_name": "Python 3"
    },
    "language_info": {
      "name": "python"
    }
  },
  "cells": [
    {
      "cell_type": "code",
      "metadata": {
        "id": "tPSwHQEiPFP-"
      },
      "source": [
        "import pandas as pd\n",
        "import numpy as np\n",
        "import seaborn as sns\n",
        "import matplotlib.pyplot as plt\n",
        "import random\n",
        "%matplotlib inline\n",
        "\n",
        "plt.rcParams['figure.figsize'] = 20, 9"
      ],
      "execution_count": 6,
      "outputs": []
    },
    {
      "cell_type": "code",
      "metadata": {
        "id": "W8rutGuxsPKe"
      },
      "source": [
        "import os\n",
        "\n",
        "os.chdir(\"/content/drive/MyDrive/Colab Notebooks\")"
      ],
      "execution_count": 3,
      "outputs": []
    },
    {
      "cell_type": "markdown",
      "metadata": {
        "id": "hHx4nHbdYpX-"
      },
      "source": [
        "Assuming that our dataset is massive we will take just 1% of the data. This can be done using the skiprows feature on pd.read_csv. The details of our dataframe will be printed right below!"
      ]
    },
    {
      "cell_type": "code",
      "metadata": {
        "id": "1z2c3Rx2POkJ",
        "colab": {
          "base_uri": "https://localhost:8080/"
        },
        "outputId": "83319f1f-21d2-46b4-b00c-588fe86aa023"
      },
      "source": [
        "filename = \"Eluvio_DS_Challenge.csv\"\n",
        "\n",
        "p = 0.01  \n",
        "df = pd.read_csv(filename, skiprows=lambda i: i>=0 and random.random() > p)\n",
        "df.info(verbose=False, memory_usage=\"deep\")"
      ],
      "execution_count": 22,
      "outputs": [
        {
          "output_type": "stream",
          "text": [
            "<class 'pandas.core.frame.DataFrame'>\n",
            "RangeIndex: 5054 entries, 0 to 5053\n",
            "Columns: 8 entries, 1201287889 to worldnews\n",
            "dtypes: bool(1), int64(3), object(4)\n",
            "memory usage: 1.9 MB\n"
          ],
          "name": "stdout"
        }
      ]
    },
    {
      "cell_type": "markdown",
      "metadata": {
        "id": "lNZtYteyZKE6"
      },
      "source": [
        "This is a significantly smaller subset and is manageable in memory! To retain the accuracy of the large scale of the data set moving forward, we will assume that the given csv is the subset we have selected from the massive csv."
      ]
    },
    {
      "cell_type": "code",
      "metadata": {
        "colab": {
          "base_uri": "https://localhost:8080/"
        },
        "id": "w4O8ZnzWXUU0",
        "outputId": "1ccb8fc2-70b6-4d85-8416-5b1fce6ccd21"
      },
      "source": [
        "df = pd.read_csv(filename)\n",
        "df.info(verbose=True, memory_usage=\"deep\")"
      ],
      "execution_count": 25,
      "outputs": [
        {
          "output_type": "stream",
          "text": [
            "<class 'pandas.core.frame.DataFrame'>\n",
            "RangeIndex: 509236 entries, 0 to 509235\n",
            "Data columns (total 8 columns):\n",
            " #   Column        Non-Null Count   Dtype \n",
            "---  ------        --------------   ----- \n",
            " 0   time_created  509236 non-null  int64 \n",
            " 1   date_created  509236 non-null  object\n",
            " 2   up_votes      509236 non-null  int64 \n",
            " 3   down_votes    509236 non-null  int64 \n",
            " 4   title         509236 non-null  object\n",
            " 5   over_18       509236 non-null  bool  \n",
            " 6   author        509236 non-null  object\n",
            " 7   category      509236 non-null  object\n",
            "dtypes: bool(1), int64(3), object(4)\n",
            "memory usage: 186.8 MB\n"
          ],
          "name": "stdout"
        }
      ]
    },
    {
      "cell_type": "code",
      "metadata": {
        "colab": {
          "base_uri": "https://localhost:8080/",
          "height": 363
        },
        "id": "ab3Nsi1hbDiT",
        "outputId": "4e719219-532b-4dba-c364-afb64e1a5920"
      },
      "source": [
        "# Take a look at the data\n",
        "df.head(10)"
      ],
      "execution_count": 26,
      "outputs": [
        {
          "output_type": "execute_result",
          "data": {
            "text/html": [
              "<div>\n",
              "<style scoped>\n",
              "    .dataframe tbody tr th:only-of-type {\n",
              "        vertical-align: middle;\n",
              "    }\n",
              "\n",
              "    .dataframe tbody tr th {\n",
              "        vertical-align: top;\n",
              "    }\n",
              "\n",
              "    .dataframe thead th {\n",
              "        text-align: right;\n",
              "    }\n",
              "</style>\n",
              "<table border=\"1\" class=\"dataframe\">\n",
              "  <thead>\n",
              "    <tr style=\"text-align: right;\">\n",
              "      <th></th>\n",
              "      <th>time_created</th>\n",
              "      <th>date_created</th>\n",
              "      <th>up_votes</th>\n",
              "      <th>down_votes</th>\n",
              "      <th>title</th>\n",
              "      <th>over_18</th>\n",
              "      <th>author</th>\n",
              "      <th>category</th>\n",
              "    </tr>\n",
              "  </thead>\n",
              "  <tbody>\n",
              "    <tr>\n",
              "      <th>0</th>\n",
              "      <td>1201232046</td>\n",
              "      <td>2008-01-25</td>\n",
              "      <td>3</td>\n",
              "      <td>0</td>\n",
              "      <td>Scores killed in Pakistan clashes</td>\n",
              "      <td>False</td>\n",
              "      <td>polar</td>\n",
              "      <td>worldnews</td>\n",
              "    </tr>\n",
              "    <tr>\n",
              "      <th>1</th>\n",
              "      <td>1201232075</td>\n",
              "      <td>2008-01-25</td>\n",
              "      <td>2</td>\n",
              "      <td>0</td>\n",
              "      <td>Japan resumes refuelling mission</td>\n",
              "      <td>False</td>\n",
              "      <td>polar</td>\n",
              "      <td>worldnews</td>\n",
              "    </tr>\n",
              "    <tr>\n",
              "      <th>2</th>\n",
              "      <td>1201232523</td>\n",
              "      <td>2008-01-25</td>\n",
              "      <td>3</td>\n",
              "      <td>0</td>\n",
              "      <td>US presses Egypt on Gaza border</td>\n",
              "      <td>False</td>\n",
              "      <td>polar</td>\n",
              "      <td>worldnews</td>\n",
              "    </tr>\n",
              "    <tr>\n",
              "      <th>3</th>\n",
              "      <td>1201233290</td>\n",
              "      <td>2008-01-25</td>\n",
              "      <td>1</td>\n",
              "      <td>0</td>\n",
              "      <td>Jump-start economy: Give health care to all</td>\n",
              "      <td>False</td>\n",
              "      <td>fadi420</td>\n",
              "      <td>worldnews</td>\n",
              "    </tr>\n",
              "    <tr>\n",
              "      <th>4</th>\n",
              "      <td>1201274720</td>\n",
              "      <td>2008-01-25</td>\n",
              "      <td>4</td>\n",
              "      <td>0</td>\n",
              "      <td>Council of Europe bashes EU&amp;UN terror blacklist</td>\n",
              "      <td>False</td>\n",
              "      <td>mhermans</td>\n",
              "      <td>worldnews</td>\n",
              "    </tr>\n",
              "    <tr>\n",
              "      <th>5</th>\n",
              "      <td>1201287889</td>\n",
              "      <td>2008-01-25</td>\n",
              "      <td>15</td>\n",
              "      <td>0</td>\n",
              "      <td>Hay presto! Farmer unveils the  illegal  mock-...</td>\n",
              "      <td>False</td>\n",
              "      <td>Armagedonovich</td>\n",
              "      <td>worldnews</td>\n",
              "    </tr>\n",
              "    <tr>\n",
              "      <th>6</th>\n",
              "      <td>1201289438</td>\n",
              "      <td>2008-01-25</td>\n",
              "      <td>5</td>\n",
              "      <td>0</td>\n",
              "      <td>Strikes, Protests and Gridlock at the Poland-U...</td>\n",
              "      <td>False</td>\n",
              "      <td>Clythos</td>\n",
              "      <td>worldnews</td>\n",
              "    </tr>\n",
              "    <tr>\n",
              "      <th>7</th>\n",
              "      <td>1201536662</td>\n",
              "      <td>2008-01-28</td>\n",
              "      <td>0</td>\n",
              "      <td>0</td>\n",
              "      <td>The U.N. Mismanagement Program</td>\n",
              "      <td>False</td>\n",
              "      <td>Moldavite</td>\n",
              "      <td>worldnews</td>\n",
              "    </tr>\n",
              "    <tr>\n",
              "      <th>8</th>\n",
              "      <td>1201558396</td>\n",
              "      <td>2008-01-28</td>\n",
              "      <td>4</td>\n",
              "      <td>0</td>\n",
              "      <td>Nicolas Sarkozy threatens to sue Ryanair</td>\n",
              "      <td>False</td>\n",
              "      <td>Moldavite</td>\n",
              "      <td>worldnews</td>\n",
              "    </tr>\n",
              "    <tr>\n",
              "      <th>9</th>\n",
              "      <td>1201635869</td>\n",
              "      <td>2008-01-29</td>\n",
              "      <td>3</td>\n",
              "      <td>0</td>\n",
              "      <td>US plans for missile shields in Polish town me...</td>\n",
              "      <td>False</td>\n",
              "      <td>JoeyRamone63</td>\n",
              "      <td>worldnews</td>\n",
              "    </tr>\n",
              "  </tbody>\n",
              "</table>\n",
              "</div>"
            ],
            "text/plain": [
              "   time_created date_created  up_votes  ...  over_18          author   category\n",
              "0    1201232046   2008-01-25         3  ...    False           polar  worldnews\n",
              "1    1201232075   2008-01-25         2  ...    False           polar  worldnews\n",
              "2    1201232523   2008-01-25         3  ...    False           polar  worldnews\n",
              "3    1201233290   2008-01-25         1  ...    False         fadi420  worldnews\n",
              "4    1201274720   2008-01-25         4  ...    False        mhermans  worldnews\n",
              "5    1201287889   2008-01-25        15  ...    False  Armagedonovich  worldnews\n",
              "6    1201289438   2008-01-25         5  ...    False         Clythos  worldnews\n",
              "7    1201536662   2008-01-28         0  ...    False       Moldavite  worldnews\n",
              "8    1201558396   2008-01-28         4  ...    False       Moldavite  worldnews\n",
              "9    1201635869   2008-01-29         3  ...    False    JoeyRamone63  worldnews\n",
              "\n",
              "[10 rows x 8 columns]"
            ]
          },
          "metadata": {
            "tags": []
          },
          "execution_count": 26
        }
      ]
    },
    {
      "cell_type": "code",
      "metadata": {
        "colab": {
          "base_uri": "https://localhost:8080/"
        },
        "id": "TJDf1Cpkf55c",
        "outputId": "eddb02aa-65e5-42fa-dd7c-31c8bb6b028e"
      },
      "source": [
        "df.isnull().values.any()"
      ],
      "execution_count": 27,
      "outputs": [
        {
          "output_type": "execute_result",
          "data": {
            "text/plain": [
              "False"
            ]
          },
          "metadata": {
            "tags": []
          },
          "execution_count": 27
        }
      ]
    },
    {
      "cell_type": "code",
      "metadata": {
        "colab": {
          "base_uri": "https://localhost:8080/",
          "height": 300
        },
        "id": "sJRjtts_bFiz",
        "outputId": "3644b8fd-d150-4a5b-9c15-6af396347f3b"
      },
      "source": [
        "df.describe()"
      ],
      "execution_count": 28,
      "outputs": [
        {
          "output_type": "execute_result",
          "data": {
            "text/html": [
              "<div>\n",
              "<style scoped>\n",
              "    .dataframe tbody tr th:only-of-type {\n",
              "        vertical-align: middle;\n",
              "    }\n",
              "\n",
              "    .dataframe tbody tr th {\n",
              "        vertical-align: top;\n",
              "    }\n",
              "\n",
              "    .dataframe thead th {\n",
              "        text-align: right;\n",
              "    }\n",
              "</style>\n",
              "<table border=\"1\" class=\"dataframe\">\n",
              "  <thead>\n",
              "    <tr style=\"text-align: right;\">\n",
              "      <th></th>\n",
              "      <th>time_created</th>\n",
              "      <th>up_votes</th>\n",
              "      <th>down_votes</th>\n",
              "    </tr>\n",
              "  </thead>\n",
              "  <tbody>\n",
              "    <tr>\n",
              "      <th>count</th>\n",
              "      <td>5.092360e+05</td>\n",
              "      <td>509236.000000</td>\n",
              "      <td>509236.0</td>\n",
              "    </tr>\n",
              "    <tr>\n",
              "      <th>mean</th>\n",
              "      <td>1.380240e+09</td>\n",
              "      <td>112.236283</td>\n",
              "      <td>0.0</td>\n",
              "    </tr>\n",
              "    <tr>\n",
              "      <th>std</th>\n",
              "      <td>7.090436e+07</td>\n",
              "      <td>541.694675</td>\n",
              "      <td>0.0</td>\n",
              "    </tr>\n",
              "    <tr>\n",
              "      <th>min</th>\n",
              "      <td>1.201232e+09</td>\n",
              "      <td>0.000000</td>\n",
              "      <td>0.0</td>\n",
              "    </tr>\n",
              "    <tr>\n",
              "      <th>25%</th>\n",
              "      <td>1.341585e+09</td>\n",
              "      <td>1.000000</td>\n",
              "      <td>0.0</td>\n",
              "    </tr>\n",
              "    <tr>\n",
              "      <th>50%</th>\n",
              "      <td>1.392909e+09</td>\n",
              "      <td>5.000000</td>\n",
              "      <td>0.0</td>\n",
              "    </tr>\n",
              "    <tr>\n",
              "      <th>75%</th>\n",
              "      <td>1.436527e+09</td>\n",
              "      <td>16.000000</td>\n",
              "      <td>0.0</td>\n",
              "    </tr>\n",
              "    <tr>\n",
              "      <th>max</th>\n",
              "      <td>1.479817e+09</td>\n",
              "      <td>21253.000000</td>\n",
              "      <td>0.0</td>\n",
              "    </tr>\n",
              "  </tbody>\n",
              "</table>\n",
              "</div>"
            ],
            "text/plain": [
              "       time_created       up_votes  down_votes\n",
              "count  5.092360e+05  509236.000000    509236.0\n",
              "mean   1.380240e+09     112.236283         0.0\n",
              "std    7.090436e+07     541.694675         0.0\n",
              "min    1.201232e+09       0.000000         0.0\n",
              "25%    1.341585e+09       1.000000         0.0\n",
              "50%    1.392909e+09       5.000000         0.0\n",
              "75%    1.436527e+09      16.000000         0.0\n",
              "max    1.479817e+09   21253.000000         0.0"
            ]
          },
          "metadata": {
            "tags": []
          },
          "execution_count": 28
        }
      ]
    },
    {
      "cell_type": "markdown",
      "metadata": {
        "id": "o02BZlfvbfkR"
      },
      "source": [
        "It seems the down_votes columns is a constant 0. As such, we can drop this column and reduce dimensionality as it will not be providing us with any information.\n",
        "\n",
        "**Note:** If we were to drop columns, we can simply **load** our subset of the csv with only our desired columns further reducing memory usage. I would do this under normal circumstance but this will not be done here to show the thought process."
      ]
    },
    {
      "cell_type": "markdown",
      "metadata": {
        "id": "GX88XDjgdoei"
      },
      "source": [
        "Lets check to see the category column!"
      ]
    },
    {
      "cell_type": "code",
      "metadata": {
        "colab": {
          "base_uri": "https://localhost:8080/"
        },
        "id": "m7jM9D4Odj8B",
        "outputId": "34ba2e37-7328-489e-d065-a746faf86ef0"
      },
      "source": [
        "df.category.unique()"
      ],
      "execution_count": 29,
      "outputs": [
        {
          "output_type": "execute_result",
          "data": {
            "text/plain": [
              "array(['worldnews'], dtype=object)"
            ]
          },
          "metadata": {
            "tags": []
          },
          "execution_count": 29
        }
      ]
    },
    {
      "cell_type": "markdown",
      "metadata": {
        "id": "N_N1A3N2dw8n"
      },
      "source": [
        "It seems there is only one value in the category column meaning this will also not provide us any information. We can safely proceed with dropping the two aforementioned columns. "
      ]
    },
    {
      "cell_type": "code",
      "metadata": {
        "id": "6bFB3ds0ehUb"
      },
      "source": [
        "df = df.drop(['down_votes', 'category'], axis=1)"
      ],
      "execution_count": 30,
      "outputs": []
    },
    {
      "cell_type": "markdown",
      "metadata": {
        "id": "CUrMmEWM6blN"
      },
      "source": [
        "Now lets convert the Unix time to date time format"
      ]
    },
    {
      "cell_type": "code",
      "metadata": {
        "id": "jfxZO7k_5Mpb"
      },
      "source": [
        "times = pd.to_datetime(df['time_created'], unit='s')"
      ],
      "execution_count": 31,
      "outputs": []
    },
    {
      "cell_type": "code",
      "metadata": {
        "colab": {
          "base_uri": "https://localhost:8080/",
          "height": 424
        },
        "id": "bby-4DxBew8F",
        "outputId": "c62fb8f7-f278-4628-de5a-2a58aa860ebc"
      },
      "source": [
        "# Now we can rewrite the Unix time as the time in Hour-Minute-Second format as we already have the date in a different column\n",
        "df[\"time_created\"] = times.dt.time\n",
        "df"
      ],
      "execution_count": 32,
      "outputs": [
        {
          "output_type": "execute_result",
          "data": {
            "text/html": [
              "<div>\n",
              "<style scoped>\n",
              "    .dataframe tbody tr th:only-of-type {\n",
              "        vertical-align: middle;\n",
              "    }\n",
              "\n",
              "    .dataframe tbody tr th {\n",
              "        vertical-align: top;\n",
              "    }\n",
              "\n",
              "    .dataframe thead th {\n",
              "        text-align: right;\n",
              "    }\n",
              "</style>\n",
              "<table border=\"1\" class=\"dataframe\">\n",
              "  <thead>\n",
              "    <tr style=\"text-align: right;\">\n",
              "      <th></th>\n",
              "      <th>time_created</th>\n",
              "      <th>date_created</th>\n",
              "      <th>up_votes</th>\n",
              "      <th>title</th>\n",
              "      <th>over_18</th>\n",
              "      <th>author</th>\n",
              "    </tr>\n",
              "  </thead>\n",
              "  <tbody>\n",
              "    <tr>\n",
              "      <th>0</th>\n",
              "      <td>03:34:06</td>\n",
              "      <td>2008-01-25</td>\n",
              "      <td>3</td>\n",
              "      <td>Scores killed in Pakistan clashes</td>\n",
              "      <td>False</td>\n",
              "      <td>polar</td>\n",
              "    </tr>\n",
              "    <tr>\n",
              "      <th>1</th>\n",
              "      <td>03:34:35</td>\n",
              "      <td>2008-01-25</td>\n",
              "      <td>2</td>\n",
              "      <td>Japan resumes refuelling mission</td>\n",
              "      <td>False</td>\n",
              "      <td>polar</td>\n",
              "    </tr>\n",
              "    <tr>\n",
              "      <th>2</th>\n",
              "      <td>03:42:03</td>\n",
              "      <td>2008-01-25</td>\n",
              "      <td>3</td>\n",
              "      <td>US presses Egypt on Gaza border</td>\n",
              "      <td>False</td>\n",
              "      <td>polar</td>\n",
              "    </tr>\n",
              "    <tr>\n",
              "      <th>3</th>\n",
              "      <td>03:54:50</td>\n",
              "      <td>2008-01-25</td>\n",
              "      <td>1</td>\n",
              "      <td>Jump-start economy: Give health care to all</td>\n",
              "      <td>False</td>\n",
              "      <td>fadi420</td>\n",
              "    </tr>\n",
              "    <tr>\n",
              "      <th>4</th>\n",
              "      <td>15:25:20</td>\n",
              "      <td>2008-01-25</td>\n",
              "      <td>4</td>\n",
              "      <td>Council of Europe bashes EU&amp;UN terror blacklist</td>\n",
              "      <td>False</td>\n",
              "      <td>mhermans</td>\n",
              "    </tr>\n",
              "    <tr>\n",
              "      <th>...</th>\n",
              "      <td>...</td>\n",
              "      <td>...</td>\n",
              "      <td>...</td>\n",
              "      <td>...</td>\n",
              "      <td>...</td>\n",
              "      <td>...</td>\n",
              "    </tr>\n",
              "    <tr>\n",
              "      <th>509231</th>\n",
              "      <td>12:12:44</td>\n",
              "      <td>2016-11-22</td>\n",
              "      <td>5</td>\n",
              "      <td>Heil Trump : Donald Trump s  alt-right  white...</td>\n",
              "      <td>False</td>\n",
              "      <td>nonamenoglory</td>\n",
              "    </tr>\n",
              "    <tr>\n",
              "      <th>509232</th>\n",
              "      <td>12:12:52</td>\n",
              "      <td>2016-11-22</td>\n",
              "      <td>1</td>\n",
              "      <td>There are people speculating that this could b...</td>\n",
              "      <td>False</td>\n",
              "      <td>SummerRay</td>\n",
              "    </tr>\n",
              "    <tr>\n",
              "      <th>509233</th>\n",
              "      <td>12:17:36</td>\n",
              "      <td>2016-11-22</td>\n",
              "      <td>1</td>\n",
              "      <td>Professor receives Arab Researchers Award</td>\n",
              "      <td>False</td>\n",
              "      <td>AUSharjah</td>\n",
              "    </tr>\n",
              "    <tr>\n",
              "      <th>509234</th>\n",
              "      <td>12:19:17</td>\n",
              "      <td>2016-11-22</td>\n",
              "      <td>1</td>\n",
              "      <td>Nigel Farage attacks response to Trump ambassa...</td>\n",
              "      <td>False</td>\n",
              "      <td>smilyflower</td>\n",
              "    </tr>\n",
              "    <tr>\n",
              "      <th>509235</th>\n",
              "      <td>12:22:26</td>\n",
              "      <td>2016-11-22</td>\n",
              "      <td>1</td>\n",
              "      <td>Palestinian wielding knife shot dead in West B...</td>\n",
              "      <td>False</td>\n",
              "      <td>superislam</td>\n",
              "    </tr>\n",
              "  </tbody>\n",
              "</table>\n",
              "<p>509236 rows × 6 columns</p>\n",
              "</div>"
            ],
            "text/plain": [
              "       time_created date_created  ...  over_18         author\n",
              "0          03:34:06   2008-01-25  ...    False          polar\n",
              "1          03:34:35   2008-01-25  ...    False          polar\n",
              "2          03:42:03   2008-01-25  ...    False          polar\n",
              "3          03:54:50   2008-01-25  ...    False        fadi420\n",
              "4          15:25:20   2008-01-25  ...    False       mhermans\n",
              "...             ...          ...  ...      ...            ...\n",
              "509231     12:12:44   2016-11-22  ...    False  nonamenoglory\n",
              "509232     12:12:52   2016-11-22  ...    False      SummerRay\n",
              "509233     12:17:36   2016-11-22  ...    False      AUSharjah\n",
              "509234     12:19:17   2016-11-22  ...    False    smilyflower\n",
              "509235     12:22:26   2016-11-22  ...    False     superislam\n",
              "\n",
              "[509236 rows x 6 columns]"
            ]
          },
          "metadata": {
            "tags": []
          },
          "execution_count": 32
        }
      ]
    },
    {
      "cell_type": "markdown",
      "metadata": {
        "id": "gKQxz5DWXYUO"
      },
      "source": [
        "Here, we will explore to see if there is a period or periods in the week where posting has a higher probability of becoming a popular post which is denoted by having more up_votes."
      ]
    },
    {
      "cell_type": "code",
      "metadata": {
        "colab": {
          "base_uri": "https://localhost:8080/",
          "height": 642
        },
        "id": "Zk0laMw3V_ih",
        "outputId": "ed734bd5-cff0-494c-b0fe-8642208a4b00"
      },
      "source": [
        "# Duplicating the dataframe to make things a bit easier\n",
        "time_df = df[['date_created','up_votes']]\n",
        "time_df[\"weekday_created\"] = times.dt.weekday\n",
        "time_df[\"hour_created\"] = times.dt.hour\n",
        "time_df"
      ],
      "execution_count": 33,
      "outputs": [
        {
          "output_type": "stream",
          "text": [
            "/usr/local/lib/python3.7/dist-packages/ipykernel_launcher.py:3: SettingWithCopyWarning: \n",
            "A value is trying to be set on a copy of a slice from a DataFrame.\n",
            "Try using .loc[row_indexer,col_indexer] = value instead\n",
            "\n",
            "See the caveats in the documentation: https://pandas.pydata.org/pandas-docs/stable/user_guide/indexing.html#returning-a-view-versus-a-copy\n",
            "  This is separate from the ipykernel package so we can avoid doing imports until\n",
            "/usr/local/lib/python3.7/dist-packages/ipykernel_launcher.py:4: SettingWithCopyWarning: \n",
            "A value is trying to be set on a copy of a slice from a DataFrame.\n",
            "Try using .loc[row_indexer,col_indexer] = value instead\n",
            "\n",
            "See the caveats in the documentation: https://pandas.pydata.org/pandas-docs/stable/user_guide/indexing.html#returning-a-view-versus-a-copy\n",
            "  after removing the cwd from sys.path.\n"
          ],
          "name": "stderr"
        },
        {
          "output_type": "execute_result",
          "data": {
            "text/html": [
              "<div>\n",
              "<style scoped>\n",
              "    .dataframe tbody tr th:only-of-type {\n",
              "        vertical-align: middle;\n",
              "    }\n",
              "\n",
              "    .dataframe tbody tr th {\n",
              "        vertical-align: top;\n",
              "    }\n",
              "\n",
              "    .dataframe thead th {\n",
              "        text-align: right;\n",
              "    }\n",
              "</style>\n",
              "<table border=\"1\" class=\"dataframe\">\n",
              "  <thead>\n",
              "    <tr style=\"text-align: right;\">\n",
              "      <th></th>\n",
              "      <th>date_created</th>\n",
              "      <th>up_votes</th>\n",
              "      <th>weekday_created</th>\n",
              "      <th>hour_created</th>\n",
              "    </tr>\n",
              "  </thead>\n",
              "  <tbody>\n",
              "    <tr>\n",
              "      <th>0</th>\n",
              "      <td>2008-01-25</td>\n",
              "      <td>3</td>\n",
              "      <td>4</td>\n",
              "      <td>3</td>\n",
              "    </tr>\n",
              "    <tr>\n",
              "      <th>1</th>\n",
              "      <td>2008-01-25</td>\n",
              "      <td>2</td>\n",
              "      <td>4</td>\n",
              "      <td>3</td>\n",
              "    </tr>\n",
              "    <tr>\n",
              "      <th>2</th>\n",
              "      <td>2008-01-25</td>\n",
              "      <td>3</td>\n",
              "      <td>4</td>\n",
              "      <td>3</td>\n",
              "    </tr>\n",
              "    <tr>\n",
              "      <th>3</th>\n",
              "      <td>2008-01-25</td>\n",
              "      <td>1</td>\n",
              "      <td>4</td>\n",
              "      <td>3</td>\n",
              "    </tr>\n",
              "    <tr>\n",
              "      <th>4</th>\n",
              "      <td>2008-01-25</td>\n",
              "      <td>4</td>\n",
              "      <td>4</td>\n",
              "      <td>15</td>\n",
              "    </tr>\n",
              "    <tr>\n",
              "      <th>...</th>\n",
              "      <td>...</td>\n",
              "      <td>...</td>\n",
              "      <td>...</td>\n",
              "      <td>...</td>\n",
              "    </tr>\n",
              "    <tr>\n",
              "      <th>509231</th>\n",
              "      <td>2016-11-22</td>\n",
              "      <td>5</td>\n",
              "      <td>1</td>\n",
              "      <td>12</td>\n",
              "    </tr>\n",
              "    <tr>\n",
              "      <th>509232</th>\n",
              "      <td>2016-11-22</td>\n",
              "      <td>1</td>\n",
              "      <td>1</td>\n",
              "      <td>12</td>\n",
              "    </tr>\n",
              "    <tr>\n",
              "      <th>509233</th>\n",
              "      <td>2016-11-22</td>\n",
              "      <td>1</td>\n",
              "      <td>1</td>\n",
              "      <td>12</td>\n",
              "    </tr>\n",
              "    <tr>\n",
              "      <th>509234</th>\n",
              "      <td>2016-11-22</td>\n",
              "      <td>1</td>\n",
              "      <td>1</td>\n",
              "      <td>12</td>\n",
              "    </tr>\n",
              "    <tr>\n",
              "      <th>509235</th>\n",
              "      <td>2016-11-22</td>\n",
              "      <td>1</td>\n",
              "      <td>1</td>\n",
              "      <td>12</td>\n",
              "    </tr>\n",
              "  </tbody>\n",
              "</table>\n",
              "<p>509236 rows × 4 columns</p>\n",
              "</div>"
            ],
            "text/plain": [
              "       date_created  up_votes  weekday_created  hour_created\n",
              "0        2008-01-25         3                4             3\n",
              "1        2008-01-25         2                4             3\n",
              "2        2008-01-25         3                4             3\n",
              "3        2008-01-25         1                4             3\n",
              "4        2008-01-25         4                4            15\n",
              "...             ...       ...              ...           ...\n",
              "509231   2016-11-22         5                1            12\n",
              "509232   2016-11-22         1                1            12\n",
              "509233   2016-11-22         1                1            12\n",
              "509234   2016-11-22         1                1            12\n",
              "509235   2016-11-22         1                1            12\n",
              "\n",
              "[509236 rows x 4 columns]"
            ]
          },
          "metadata": {
            "tags": []
          },
          "execution_count": 33
        }
      ]
    },
    {
      "cell_type": "code",
      "metadata": {
        "id": "Wth7EM1hZUqQ"
      },
      "source": [
        "date_created_df = time_df.drop([\"up_votes\"], axis=1)\n",
        "date_created_df = date_created_df.groupby([\"weekday_created\", 'hour_created']).count()\n",
        "date_created_df = date_created_df.reset_index()"
      ],
      "execution_count": 34,
      "outputs": []
    },
    {
      "cell_type": "code",
      "metadata": {
        "id": "yZVbn7RNfuIB"
      },
      "source": [
        "heatmap_created_post = date_created_df.pivot(index='weekday_created', columns='hour_created', values='date_created')"
      ],
      "execution_count": 35,
      "outputs": []
    },
    {
      "cell_type": "code",
      "metadata": {
        "colab": {
          "base_uri": "https://localhost:8080/",
          "height": 552
        },
        "id": "tAnYK81-ldI_",
        "outputId": "ae90f531-c7ad-4f62-9ce9-382fcd2d271f"
      },
      "source": [
        "f, ax = plt.subplots()\n",
        "\n",
        "y_axis_labels = [\"Mon\", \"Tues\", \"Wed\", \"Thurs\", \"Fri\", \"Sat\", \"Sun\"]\n",
        "ax = sns.heatmap(heatmap_created_post, yticklabels=y_axis_labels, cmap='Blues')"
      ],
      "execution_count": 36,
      "outputs": [
        {
          "output_type": "display_data",
          "data": {
            "image/png": "[encoded data removed]",
            "text/plain": [
              "<Figure size 1440x648 with 2 Axes>"
            ]
          },
          "metadata": {
            "tags": [],
            "needs_background": "light"
          }
        }
      ]
    },
    {
      "cell_type": "markdown",
      "metadata": {
        "id": "aMlJW5XB9NRV"
      },
      "source": [
        "This is so cool! Here, we can see the heatmap of when posts are created. According to this, the most posts are created on the weekdays sometime between noon and four with Tuesday around 1 showing the highest amount of posts created.\n",
        "\n",
        "Though I am speculating, the posts might be uploaded during lunch hours at work!\n",
        "\n",
        "**What this tells us:**\n",
        "From a business analytics standpoint, the most posts being created must have a correlation with the highest traffic on the website. If we were an advertising company we could use this information to place advertisements around these times more often than other times of the week. On the other hand, if we were the website itself we could charge a premium for advertising during this period. "
      ]
    },
    {
      "cell_type": "code",
      "metadata": {
        "id": "pwyBxRbBlpa6"
      },
      "source": [
        "successful_post_cutoff = 200\n",
        "\n",
        "up_votes_df = time_df.drop([\"date_created\"], axis=1)\n",
        "up_votes_df['per_suc'] = pd.Series(np.where(time_df['up_votes'] > successful_post_cutoff, 1, 0))\n",
        "up_votes_df = up_votes_df.groupby([\"weekday_created\", 'hour_created']).mean()\n",
        "up_votes_df = up_votes_df.reset_index()"
      ],
      "execution_count": 37,
      "outputs": []
    },
    {
      "cell_type": "code",
      "metadata": {
        "colab": {
          "base_uri": "https://localhost:8080/",
          "height": 552
        },
        "id": "qkrXdQsQoJiw",
        "outputId": "7de42f3d-d398-405d-d9a4-6038ea68a823"
      },
      "source": [
        "heatmap_up_votes = up_votes_df.pivot(index='weekday_created', columns='hour_created', values='per_suc')\n",
        "\n",
        "f, ax = plt.subplots()\n",
        "y_axis_labels = [\"Mon\", \"Tues\", \"Wed\", \"Thurs\", \"Fri\", \"Sat\", \"Sun\"]\n",
        "ax = sns.heatmap(heatmap_up_votes, yticklabels=y_axis_labels, cmap='Reds')"
      ],
      "execution_count": 38,
      "outputs": [
        {
          "output_type": "display_data",
          "data": {
            "image/png": "[encoded data removed]",
            "text/plain": [
              "<Figure size 1440x648 with 2 Axes>"
            ]
          },
          "metadata": {
            "tags": [],
            "needs_background": "light"
          }
        }
      ]
    },
    {
      "cell_type": "markdown",
      "metadata": {
        "id": "X_YXfd8l-0Ri"
      },
      "source": [
        "Wow! This heatmap above shows us the percentage of \"successful\" posts. **NOTE:** A \"successful post\" here has been chosen as a arbitrary value of 200 up_votes. This can be changed and we see the heatmap reflect those changes.\n",
        "\n",
        "Though I am speculating again, maybe the white areas of our heatmap indicating less successful posts are around times people are waking up which means perhaps they wont jump on a computer and look at their favorite forums immediately. \n",
        "Another speculation I could state is the two distinct areas. Why is this heatmap not like the first heatmap? It may be that there are two popular time zones that this forum/website is being used!\n",
        "\n",
        "**Why:**\n",
        "With many posts by many users having 0 down_votes and 0 up_votes I decided to filter our any posts that had a low number of upvotes, as these 0 value posts indicate that there were no interactions between users and the post. As such it is harder to gather whether the posts were liked or disliked and whether they were even seen or not. Applying a minimum of points to make a post successful, we can better see a percentage of posts that beat our threshold. \n",
        "\n",
        "**What this tells us:**\n",
        "On this heatmap, we can see two major clusterings of red shading. The main larger one around noon on Sundays and the other around midnight on Sundays. There seem to be two columns indicating that a good majority of successful posts during the weekdays are posted around 9 or 10 **OR** noon to 2!\n",
        "\n",
        "\n",
        "Here, I am assuming that the website the data is collected from collates posts that are successful higher than posts that are not. As such, successful posts will have more traffic and more users clicking on the news articles.\n",
        "From a business analytics standpoint, if we were a news company and we wanted to drive more traffic to our website, or if I simply wanted to gather up_votes on this forum I would post my headline at or around the darkest area on this heatmap. \n",
        "Example: I have written an article on my blog about the U.S. President meeting with the Prime Minister of the UK. If I want my blog to get the most ad revenue I would upload my article to the worldnews forum at noon on Sunday."
      ]
    },
    {
      "cell_type": "markdown",
      "metadata": {
        "id": "ubs6r9jgxWhO"
      },
      "source": [
        "## **Text Analysis**"
      ]
    },
    {
      "cell_type": "code",
      "metadata": {
        "id": "voRWDZCY10N7"
      },
      "source": [
        "from sklearn.model_selection import train_test_split\n",
        "from sklearn.feature_extraction.text import CountVectorizer\n",
        "from sklearn.linear_model import LogisticRegression\n",
        "from sklearn import metrics"
      ],
      "execution_count": 39,
      "outputs": []
    },
    {
      "cell_type": "code",
      "metadata": {
        "id": "GjK7mO2rxeiH"
      },
      "source": [
        "# Transforming our 'over_18' feature to to binary\n",
        "df['over_18'] = np.where(df['over_18'] == True, 1, 0)"
      ],
      "execution_count": 40,
      "outputs": []
    },
    {
      "cell_type": "code",
      "metadata": {
        "id": "4RR8Yh-U01JX"
      },
      "source": [
        "X = pd.DataFrame(df.title)\n",
        "y = pd.DataFrame(df.over_18)\n",
        "\n",
        "X_train, X_test, Y_train, Y_test = train_test_split(X,y, test_size = 0.25)"
      ],
      "execution_count": 55,
      "outputs": []
    },
    {
      "cell_type": "code",
      "metadata": {
        "id": "_pUcbuun2Fo2"
      },
      "source": [
        "# We drop stop words as these will not provide much information on popularity or allow\n",
        "# for better predictions etc\n",
        "C_vect = CountVectorizer(stop_words='english')\n",
        "\n",
        "C_X_train = C_vect.fit_transform(X_train.title)\n",
        "C_X_test = C_vect.transform(X_test.title)"
      ],
      "execution_count": 56,
      "outputs": []
    },
    {
      "cell_type": "markdown",
      "metadata": {
        "id": "tNDvJUSroPt3"
      },
      "source": [
        "Here we used most of the dataset to make sure we get an accurate representation.\n",
        "\n",
        "Lets see what the most commonly used words are. This will give us a (general) idea of what is popular on this forum.\n",
        "\n",
        "Here are the top 20 most common words in our train set:"
      ]
    },
    {
      "cell_type": "code",
      "metadata": {
        "colab": {
          "base_uri": "https://localhost:8080/"
        },
        "id": "dhXqqJ3XoRtZ",
        "outputId": "52e7da9b-c52a-4d72-a629-447cd37586d5"
      },
      "source": [
        "sum_matrix = C_X_train.sum(axis=0) \n",
        "words_freq = [(word, sum_matrix[0, idx]) for word, idx in C_vect.vocabulary_.items()]\n",
        "words_freq = sorted(words_freq, key = lambda x: x[1], reverse=True)\n",
        "words_freq[:20]"
      ],
      "execution_count": 57,
      "outputs": [
        {
          "output_type": "execute_result",
          "data": {
            "text/plain": [
              "[('china', 19776),\n",
              " ('says', 19102),\n",
              " ('new', 17346),\n",
              " ('syria', 14247),\n",
              " ('russia', 14058),\n",
              " ('world', 13603),\n",
              " ('police', 12420),\n",
              " ('government', 12332),\n",
              " ('israel', 12115),\n",
              " ('iran', 11826),\n",
              " ('president', 11435),\n",
              " ('killed', 10685),\n",
              " ('people', 10334),\n",
              " ('state', 10145),\n",
              " ('attack', 9733),\n",
              " ('war', 9582),\n",
              " ('russian', 9266),\n",
              " ('military', 8906),\n",
              " ('uk', 8794),\n",
              " ('north', 8655)]"
            ]
          },
          "metadata": {
            "tags": []
          },
          "execution_count": 57
        }
      ]
    },
    {
      "cell_type": "markdown",
      "metadata": {
        "id": "aUNDIqd546Hn"
      },
      "source": [
        "This is well within expectations. With the data being collected from the worldnews category, international news involving many powerful countries like China, Russia, Iran are mentioned. Another thing we can note is words like \"war\", \"attack\", \"military\" and \"killed\" are among the most popular words used as news covering controversy and conflict are more widely read and circulated."
      ]
    },
    {
      "cell_type": "markdown",
      "metadata": {
        "id": "8X__HIHFdlQJ"
      },
      "source": [
        "# Down Sampling\n",
        "\n",
        "We will try to predict if an article is in the 'over_18' category or not. To do this however, we will employ a downsampling to counteract the drastic skew of our labels. We have approximately 300 'over_18' news article headlines while the rest are not classified in the 'over_18' category.\n",
        "\n",
        "We will keep a skewed distribution to retain some of the accuracy with respect to the original data."
      ]
    },
    {
      "cell_type": "code",
      "metadata": {
        "colab": {
          "base_uri": "https://localhost:8080/"
        },
        "id": "fGgnj9LNdn3C",
        "outputId": "b2c38e3f-47c1-4b20-ed9a-308967133e3f"
      },
      "source": [
        "size_of_pos = np.sum(df.over_18)\n",
        "\n",
        "scale = 4\n",
        "size_of_neg = scale * size_of_pos\n",
        "df_downsample = pd.concat([df[['title','over_18']][df.over_18==1], df[['title','over_18']][df.over_18 == 0].sample(n=size_of_neg)])\n",
        "\n",
        "print(\"Our positive class sample ratio is: \", 1/(scale+1))\n",
        "print(\"Our negative class sample ratio is: \", scale/(scale+1))"
      ],
      "execution_count": 60,
      "outputs": [
        {
          "output_type": "stream",
          "text": [
            "Our positive class sample ratio is:  0.2\n",
            "Our negative class sample ratio is:  0.8\n"
          ],
          "name": "stdout"
        }
      ]
    },
    {
      "cell_type": "code",
      "metadata": {
        "id": "sihMtjy4dr3K"
      },
      "source": [
        "X = pd.DataFrame(df_downsample.title)\n",
        "y = pd.DataFrame(df_downsample.over_18)\n",
        "\n",
        "X_train, X_test, Y_train, Y_test = train_test_split(X,y, test_size = 0.1)"
      ],
      "execution_count": 72,
      "outputs": []
    },
    {
      "cell_type": "code",
      "metadata": {
        "colab": {
          "base_uri": "https://localhost:8080/"
        },
        "id": "nCDOGQIeoJFh",
        "outputId": "a9f506a0-d6c6-48ce-ca59-34b6ae50bdd2"
      },
      "source": [
        "C_vect = CountVectorizer(stop_words='english')\n",
        "\n",
        "C_X_train = C_vect.fit_transform(X_train.title)\n",
        "C_X_test = C_vect.transform(X_test.title)\n",
        "\n",
        "LogReg = LogisticRegression()\n",
        "\n",
        "LogReg.fit(C_X_train, Y_train.astype('int'))"
      ],
      "execution_count": 73,
      "outputs": [
        {
          "output_type": "execute_result",
          "data": {
            "text/plain": [
              "LogisticRegression(C=1.0, class_weight=None, dual=False, fit_intercept=True,\n",
              "                   intercept_scaling=1, l1_ratio=None, max_iter=100,\n",
              "                   multi_class='auto', n_jobs=None, penalty='l2',\n",
              "                   random_state=None, solver='lbfgs', tol=0.0001, verbose=0,\n",
              "                   warm_start=False)"
            ]
          },
          "metadata": {
            "tags": []
          },
          "execution_count": 73
        }
      ]
    },
    {
      "cell_type": "code",
      "metadata": {
        "colab": {
          "base_uri": "https://localhost:8080/"
        },
        "id": "U29JGCKwtUjQ",
        "outputId": "64cd8648-3a4a-4b1f-c708-af354b4572cf"
      },
      "source": [
        "pred = LogReg.predict(C_X_test)\n",
        "acc_score = metrics.accuracy_score(Y_test, pred)\n",
        "f1_score = metrics.f1_score(Y_test, pred, average='macro')\n",
        "recall = metrics.recall_score(Y_test, pred)\n",
        "precision = metrics.precision_score(Y_test, pred)\n",
        "\n",
        "print('Total accuracy classification score: {}'.format(acc_score))\n",
        "print('Total recall score: {}'.format(recall))\n",
        "print('Total precision score: {}'.format(precision))\n",
        "print('Total F1 classification score: {}'.format(f1_score))"
      ],
      "execution_count": 74,
      "outputs": [
        {
          "output_type": "stream",
          "text": [
            "Total accuracy classification score: 0.88125\n",
            "Total recall score: 0.5135135135135135\n",
            "Total precision score: 0.95\n",
            "Total F1 classification score: 0.7972116603295312\n"
          ],
          "name": "stdout"
        }
      ]
    },
    {
      "cell_type": "markdown",
      "metadata": {
        "id": "Df2X9q8CwlZe"
      },
      "source": [
        "Overall these results are higher than expected. This is not surprising as even a majority class predictive model will be correct 80% of the time on our down sampled data. As we can see the recall here is quite low as not many of the postives are being predicted correctly. This makes sense as the recall will be very sensitive as we originally have a very low number of postive samples."
      ]
    },
    {
      "cell_type": "markdown",
      "metadata": {
        "id": "QO-y5xmMysH6"
      },
      "source": [
        "Next, lets compare the LogisticRegression model with a MultinomialNB (MNB) Model!"
      ]
    },
    {
      "cell_type": "code",
      "metadata": {
        "id": "vf1kUU9fytlD"
      },
      "source": [
        "from sklearn.naive_bayes import MultinomialNB\n",
        "import warnings\n",
        "from sklearn.exceptions import DataConversionWarning\n",
        "warnings.filterwarnings(action='ignore', category=DataConversionWarning)"
      ],
      "execution_count": 75,
      "outputs": []
    },
    {
      "cell_type": "code",
      "metadata": {
        "colab": {
          "base_uri": "https://localhost:8080/"
        },
        "id": "B7ENUCa7y1JP",
        "outputId": "ce01cc30-8666-4ae0-ecad-c47c0ed6aee3"
      },
      "source": [
        "clf = MultinomialNB(alpha=0)\n",
        "\n",
        "clf.fit(C_X_train, Y_train)\n",
        "\n",
        "C_X_test = C_vect.transform(X_test.title)\n",
        "\n",
        "pred = clf.predict(C_X_test)\n",
        "acc_score = metrics.accuracy_score(Y_test, pred)\n",
        "f1_score = metrics.f1_score(Y_test, pred, average='macro')\n",
        "recall = metrics.recall_score(Y_test, pred)\n",
        "precision = metrics.precision_score(Y_test, pred)\n",
        "\n",
        "print('Total accuracy classification score: {}'.format(acc_score))\n",
        "print('Total recall score: {}'.format(recall))\n",
        "print('Total precision score: {}'.format(precision))\n",
        "print('Total F1 classification score: {}'.format(f1_score))"
      ],
      "execution_count": 76,
      "outputs": [
        {
          "output_type": "stream",
          "text": [
            "Total accuracy classification score: 0.8125\n",
            "Total recall score: 0.4594594594594595\n",
            "Total precision score: 0.6296296296296297\n",
            "Total F1 classification score: 0.70703125\n"
          ],
          "name": "stdout"
        },
        {
          "output_type": "stream",
          "text": [
            "/usr/local/lib/python3.7/dist-packages/sklearn/naive_bayes.py:507: UserWarning: alpha too small will result in numeric errors, setting alpha = 1.0e-10\n",
            "  'setting alpha = %.1e' % _ALPHA_MIN)\n"
          ],
          "name": "stderr"
        }
      ]
    },
    {
      "cell_type": "markdown",
      "metadata": {
        "id": "Lk0Ix9Gc0vr_"
      },
      "source": [
        "This is performing much worse than the logistic regression but this is expected as our alpha is set to 0. Note the error printed by the MultinoulliNB module. Lets tune the hyperparameter of alpha. This will vary our level of Laplace Smoothing which will allow a more flexibility for 0 probability situations in a Naive Bayes setting."
      ]
    },
    {
      "cell_type": "code",
      "metadata": {
        "colab": {
          "base_uri": "https://localhost:8080/",
          "height": 551
        },
        "id": "ef0jPf4U1hYy",
        "outputId": "fcdafb81-d9f3-48cc-9967-cafb0c8d3bfb"
      },
      "source": [
        "alphas = np.linspace(1.0e-5, 5, 50)\n",
        "\n",
        "accuracies = []\n",
        "f1s = []\n",
        "recalls = []\n",
        "precisions = []\n",
        "\n",
        "\n",
        "# Build the classifier\n",
        "for a in alphas:\n",
        "  clf = MultinomialNB(alpha=a)\n",
        "\n",
        "  #  Train the classifier\n",
        "  clf.fit(C_X_train, Y_train)\n",
        "\n",
        "  # Get the test vectors\n",
        "  C_X_test = C_vect.transform(X_test.title)\n",
        "\n",
        "  # Predict and score the vectors\n",
        "  pred = clf.predict(C_X_test)\n",
        "\n",
        "  acc_score = metrics.accuracy_score(Y_test, pred)\n",
        "  f1_score = metrics.f1_score(Y_test, pred, average='macro')\n",
        "  recall = metrics.recall_score(Y_test, pred)\n",
        "  precision = metrics.precision_score(Y_test, pred)\n",
        "\n",
        "  accuracies.append(acc_score)\n",
        "  f1s.append(f1_score)\n",
        "  recalls.append(recall)\n",
        "  precisions.append(precision)\n",
        "\n",
        "\n",
        "plt.plot(alphas, f1s, label = \"F1 Score\")\n",
        "plt.plot(alphas, accuracies, label = \"Accuracy\")\n",
        "plt.plot(alphas, precisions, label = \"Precision\")\n",
        "plt.plot(alphas, recalls, label = \"Recall\")\n",
        "plt.legend(loc=\"lower right\")\n",
        "plt.xlabel(\"Alpha\")\n",
        "plt.ylabel(\"Score (Percent)\")\n",
        "plt.show()"
      ],
      "execution_count": 77,
      "outputs": [
        {
          "output_type": "display_data",
          "data": {
            "image/png": "[encoded data removed]",
            "text/plain": [
              "<Figure size 1440x648 with 1 Axes>"
            ]
          },
          "metadata": {
            "tags": [],
            "needs_background": "light"
          }
        }
      ]
    },
    {
      "cell_type": "markdown",
      "metadata": {
        "id": "JBcG5yHJ4B_8"
      },
      "source": [
        "As seen in the graph above, there is a drastic trade taking place between the precision and the recall. Depending on the intended use for the model, the paramter of alpha can be used to choose whether the precision or recall will be more heavily weighted and therefore preferred. \n",
        "\n",
        "Lets try rerunning our model with an alpha parameter value of around 1.3. The F1 score seems to increase until around this area where it then holds approximately steady."
      ]
    },
    {
      "cell_type": "code",
      "metadata": {
        "colab": {
          "base_uri": "https://localhost:8080/"
        },
        "id": "t9m1vCrL3YKQ",
        "outputId": "49aea330-18f2-4382-a461-30121dd517c1"
      },
      "source": [
        "clf = MultinomialNB(alpha=1.3)\n",
        "\n",
        "clf.fit(C_X_train, Y_train)\n",
        "\n",
        "C_X_test = C_vect.transform(X_test.title)\n",
        "\n",
        "pred = clf.predict(C_X_test)\n",
        "acc_score = metrics.accuracy_score(Y_test, pred)\n",
        "f1_score = metrics.f1_score(Y_test, pred, average='macro')\n",
        "recall = metrics.recall_score(Y_test, pred)\n",
        "precision = metrics.precision_score(Y_test, pred)\n",
        "\n",
        "print('Total accuracy classification score: {}'.format(acc_score))\n",
        "print('Total recall score: {}'.format(recall))\n",
        "print('Total precision score: {}'.format(precision))\n",
        "print('Total F1 classification score: {}'.format(f1_score))"
      ],
      "execution_count": 78,
      "outputs": [
        {
          "output_type": "stream",
          "text": [
            "Total accuracy classification score: 0.89375\n",
            "Total recall score: 0.5945945945945946\n",
            "Total precision score: 0.9166666666666666\n",
            "Total F1 classification score: 0.8278372048863851\n"
          ],
          "name": "stdout"
        }
      ]
    },
    {
      "cell_type": "markdown",
      "metadata": {
        "id": "Cmt4qnWM-uiX"
      },
      "source": [
        "We can see significant improvement over the 0 alpha MultinoulliNB model. Though not by a large margin, this tuned MNB model also beats out the logistic regression model we tried initially!"
      ]
    },
    {
      "cell_type": "markdown",
      "metadata": {
        "id": "dKz-FPVXTcDr"
      },
      "source": [
        "Below, we can take a look at which instances our model is predicting incorrectly."
      ]
    },
    {
      "cell_type": "code",
      "metadata": {
        "id": "KIih1KuQ9Lip"
      },
      "source": [
        "df1 = pd.DataFrame(pred, columns = [\"over_18\"])\n",
        "Y_temp = X_test.join(Y_test).reset_index(drop=True)"
      ],
      "execution_count": 79,
      "outputs": []
    },
    {
      "cell_type": "code",
      "metadata": {
        "colab": {
          "base_uri": "https://localhost:8080/",
          "height": 582
        },
        "id": "_x7FAWWaKR-8",
        "outputId": "183e6c20-be63-4e9c-9fa3-ae6c8a5f0149"
      },
      "source": [
        "df1 = Y_temp.join(df1, lsuffix='_true', rsuffix='_pred')\n",
        "df1['res'] = np.where(df1['over_18_pred'] == df1['over_18_true'], True, False)\n",
        "df1[df1.res == False]"
      ],
      "execution_count": 80,
      "outputs": [
        {
          "output_type": "execute_result",
          "data": {
            "text/html": [
              "<div>\n",
              "<style scoped>\n",
              "    .dataframe tbody tr th:only-of-type {\n",
              "        vertical-align: middle;\n",
              "    }\n",
              "\n",
              "    .dataframe tbody tr th {\n",
              "        vertical-align: top;\n",
              "    }\n",
              "\n",
              "    .dataframe thead th {\n",
              "        text-align: right;\n",
              "    }\n",
              "</style>\n",
              "<table border=\"1\" class=\"dataframe\">\n",
              "  <thead>\n",
              "    <tr style=\"text-align: right;\">\n",
              "      <th></th>\n",
              "      <th>title</th>\n",
              "      <th>over_18_true</th>\n",
              "      <th>over_18_pred</th>\n",
              "      <th>res</th>\n",
              "    </tr>\n",
              "  </thead>\n",
              "  <tbody>\n",
              "    <tr>\n",
              "      <th>5</th>\n",
              "      <td>Naked Spanish clowns anger Palestinians</td>\n",
              "      <td>1</td>\n",
              "      <td>0</td>\n",
              "      <td>False</td>\n",
              "    </tr>\n",
              "    <tr>\n",
              "      <th>9</th>\n",
              "      <td>Syria s Torture Machine - Channel 4 exclusive ...</td>\n",
              "      <td>1</td>\n",
              "      <td>0</td>\n",
              "      <td>False</td>\n",
              "    </tr>\n",
              "    <tr>\n",
              "      <th>21</th>\n",
              "      <td>Iranian Women Excluded From Major Areas of Uni...</td>\n",
              "      <td>0</td>\n",
              "      <td>1</td>\n",
              "      <td>False</td>\n",
              "    </tr>\n",
              "    <tr>\n",
              "      <th>22</th>\n",
              "      <td>Special Report: Brazil s gringo problem: its b...</td>\n",
              "      <td>1</td>\n",
              "      <td>0</td>\n",
              "      <td>False</td>\n",
              "    </tr>\n",
              "    <tr>\n",
              "      <th>23</th>\n",
              "      <td>Tibetan in Delhi Sets Self Alight to Protest C...</td>\n",
              "      <td>1</td>\n",
              "      <td>0</td>\n",
              "      <td>False</td>\n",
              "    </tr>\n",
              "    <tr>\n",
              "      <th>31</th>\n",
              "      <td>NSA hackers Shadow Brokers have released 60% o...</td>\n",
              "      <td>1</td>\n",
              "      <td>0</td>\n",
              "      <td>False</td>\n",
              "    </tr>\n",
              "    <tr>\n",
              "      <th>35</th>\n",
              "      <td>After being held hostage 33 days by the FARC, ...</td>\n",
              "      <td>1</td>\n",
              "      <td>0</td>\n",
              "      <td>False</td>\n",
              "    </tr>\n",
              "    <tr>\n",
              "      <th>46</th>\n",
              "      <td>Syria army dropped 2,000 barrel bombs since Ju...</td>\n",
              "      <td>1</td>\n",
              "      <td>0</td>\n",
              "      <td>False</td>\n",
              "    </tr>\n",
              "    <tr>\n",
              "      <th>50</th>\n",
              "      <td>BBC News - Phone hacking: Brooks steps down ov...</td>\n",
              "      <td>1</td>\n",
              "      <td>0</td>\n",
              "      <td>False</td>\n",
              "    </tr>\n",
              "    <tr>\n",
              "      <th>60</th>\n",
              "      <td>Footage of gunbattle between Turkish security ...</td>\n",
              "      <td>1</td>\n",
              "      <td>0</td>\n",
              "      <td>False</td>\n",
              "    </tr>\n",
              "    <tr>\n",
              "      <th>64</th>\n",
              "      <td>SA, an  abominable failure  Former leaders of ...</td>\n",
              "      <td>1</td>\n",
              "      <td>0</td>\n",
              "      <td>False</td>\n",
              "    </tr>\n",
              "    <tr>\n",
              "      <th>83</th>\n",
              "      <td>Spell of the Albino - Investigating the sinist...</td>\n",
              "      <td>1</td>\n",
              "      <td>0</td>\n",
              "      <td>False</td>\n",
              "    </tr>\n",
              "    <tr>\n",
              "      <th>97</th>\n",
              "      <td>Rights Group Releases Video of LGBT Attacks in...</td>\n",
              "      <td>1</td>\n",
              "      <td>0</td>\n",
              "      <td>False</td>\n",
              "    </tr>\n",
              "    <tr>\n",
              "      <th>113</th>\n",
              "      <td>CNN: Videos show glimpse into evidence for Syr...</td>\n",
              "      <td>1</td>\n",
              "      <td>0</td>\n",
              "      <td>False</td>\n",
              "    </tr>\n",
              "    <tr>\n",
              "      <th>115</th>\n",
              "      <td>Dog cruelty: Rise in slaughter of stolen pets ...</td>\n",
              "      <td>1</td>\n",
              "      <td>0</td>\n",
              "      <td>False</td>\n",
              "    </tr>\n",
              "    <tr>\n",
              "      <th>131</th>\n",
              "      <td>Chinese fishers face charges over poached turt...</td>\n",
              "      <td>1</td>\n",
              "      <td>0</td>\n",
              "      <td>False</td>\n",
              "    </tr>\n",
              "    <tr>\n",
              "      <th>145</th>\n",
              "      <td>How To Get Rid Of Hairline Crack In Toilet Tan...</td>\n",
              "      <td>0</td>\n",
              "      <td>1</td>\n",
              "      <td>False</td>\n",
              "    </tr>\n",
              "  </tbody>\n",
              "</table>\n",
              "</div>"
            ],
            "text/plain": [
              "                                                 title  ...    res\n",
              "5              Naked Spanish clowns anger Palestinians  ...  False\n",
              "9    Syria s Torture Machine - Channel 4 exclusive ...  ...  False\n",
              "21   Iranian Women Excluded From Major Areas of Uni...  ...  False\n",
              "22   Special Report: Brazil s gringo problem: its b...  ...  False\n",
              "23   Tibetan in Delhi Sets Self Alight to Protest C...  ...  False\n",
              "31   NSA hackers Shadow Brokers have released 60% o...  ...  False\n",
              "35   After being held hostage 33 days by the FARC, ...  ...  False\n",
              "46   Syria army dropped 2,000 barrel bombs since Ju...  ...  False\n",
              "50   BBC News - Phone hacking: Brooks steps down ov...  ...  False\n",
              "60   Footage of gunbattle between Turkish security ...  ...  False\n",
              "64   SA, an  abominable failure  Former leaders of ...  ...  False\n",
              "83   Spell of the Albino - Investigating the sinist...  ...  False\n",
              "97   Rights Group Releases Video of LGBT Attacks in...  ...  False\n",
              "113  CNN: Videos show glimpse into evidence for Syr...  ...  False\n",
              "115  Dog cruelty: Rise in slaughter of stolen pets ...  ...  False\n",
              "131  Chinese fishers face charges over poached turt...  ...  False\n",
              "145  How To Get Rid Of Hairline Crack In Toilet Tan...  ...  False\n",
              "\n",
              "[17 rows x 4 columns]"
            ]
          },
          "metadata": {
            "tags": []
          },
          "execution_count": 80
        }
      ]
    },
    {
      "cell_type": "markdown",
      "metadata": {
        "id": "28oeZBsYTxgL"
      },
      "source": [
        "Not only is it difficult to detect a pattern here but it is also difficult to say why the model predicts labels incorrectly.\n",
        "\n",
        "One important thing to note is that the results here are built upon our downsampled dataset which has a 20:80 ratio between positive and negative classes, respectively. Evening out the positive-negative class imbalance would increase our overall performance. On the other hand, increasing the imbalance will result in a less accurate performance and labeling. The lack of positive samples is the biggest obstacle in building an accurate predictive model. Increasing the number of positive samples in our dataset would significantly boost performance."
      ]
    }
  ]
}